{
  "metadata": {
    "kernelspec": {
      "language": "python",
      "display_name": "Python 3",
      "name": "python3"
    },
    "language_info": {
      "name": "python",
      "version": "3.10.14",
      "mimetype": "text/x-python",
      "codemirror_mode": {
        "name": "ipython",
        "version": 3
      },
      "pygments_lexer": "ipython3",
      "nbconvert_exporter": "python",
      "file_extension": ".py"
    },
    "kaggle": {
      "accelerator": "none",
      "dataSources": [
        {
          "sourceId": 3857,
          "sourceType": "datasetVersion",
          "datasetId": 2013
        }
      ],
      "dockerImageVersionId": 30786,
      "isInternetEnabled": true,
      "language": "python",
      "sourceType": "notebook",
      "isGpuEnabled": false
    },
    "colab": {
      "name": "Cervical Cancer Detection 98% Accuracy - 3 models",
      "provenance": []
    }
  },
  "nbformat_minor": 0,
  "nbformat": 4,
  "cells": [
    {
      "source": [
        "# IMPORTANT: RUN THIS CELL IN ORDER TO IMPORT YOUR KAGGLE DATA SOURCES,\n",
        "# THEN FEEL FREE TO DELETE THIS CELL.\n",
        "# NOTE: THIS NOTEBOOK ENVIRONMENT DIFFERS FROM KAGGLE'S PYTHON\n",
        "# ENVIRONMENT SO THERE MAY BE MISSING LIBRARIES USED BY YOUR\n",
        "# NOTEBOOK.\n",
        "import kagglehub\n",
        "loveall_cervical_cancer_risk_classification_path = kagglehub.dataset_download('loveall/cervical-cancer-risk-classification')\n",
        "\n",
        "print('Data source import complete.')\n"
      ],
      "metadata": {
        "id": "WEo3BzW7q21h"
      },
      "cell_type": "code",
      "outputs": [],
      "execution_count": null
    },
    {
      "cell_type": "code",
      "source": [
        "import numpy as np\n",
        "import pandas as pd\n",
        "from sklearn.impute import SimpleImputer\n",
        "from sklearn.model_selection import train_test_split\n",
        "from sklearn.preprocessing import PolynomialFeatures\n",
        "from sklearn.preprocessing import StandardScaler\n"
      ],
      "metadata": {
        "_uuid": "8f2839f25d086af736a60e9eeb907d3b93b6e0e5",
        "_cell_guid": "b1076dfc-b9ad-4769-8c92-a6c4dae69d19",
        "trusted": true,
        "execution": {
          "iopub.status.busy": "2024-11-07T15:58:07.77232Z",
          "iopub.execute_input": "2024-11-07T15:58:07.773305Z",
          "iopub.status.idle": "2024-11-07T15:58:07.777959Z",
          "shell.execute_reply.started": "2024-11-07T15:58:07.773263Z",
          "shell.execute_reply": "2024-11-07T15:58:07.776938Z"
        },
        "id": "aivNIhXBq21j"
      },
      "outputs": [],
      "execution_count": null
    },
    {
      "cell_type": "code",
      "source": [
        "data = pd.read_csv('../input/cervical-cancer-risk-classification/kag_risk_factors_cervical_cancer.csv')"
      ],
      "metadata": {
        "trusted": true,
        "execution": {
          "iopub.status.busy": "2024-11-07T15:58:07.782494Z",
          "iopub.execute_input": "2024-11-07T15:58:07.782891Z",
          "iopub.status.idle": "2024-11-07T15:58:07.816715Z",
          "shell.execute_reply.started": "2024-11-07T15:58:07.782847Z",
          "shell.execute_reply": "2024-11-07T15:58:07.815817Z"
        },
        "id": "UlE0q7jHq21k"
      },
      "outputs": [],
      "execution_count": null
    },
    {
      "cell_type": "code",
      "source": [
        "data.head(5)"
      ],
      "metadata": {
        "trusted": true,
        "execution": {
          "iopub.status.busy": "2024-11-07T15:58:07.818604Z",
          "iopub.execute_input": "2024-11-07T15:58:07.818997Z",
          "iopub.status.idle": "2024-11-07T15:58:07.839433Z",
          "shell.execute_reply.started": "2024-11-07T15:58:07.818955Z",
          "shell.execute_reply": "2024-11-07T15:58:07.838462Z"
        },
        "id": "SLwTO7SOq21k"
      },
      "outputs": [],
      "execution_count": null
    },
    {
      "cell_type": "code",
      "source": [
        "data = data.replace('?', np.nan)"
      ],
      "metadata": {
        "trusted": true,
        "execution": {
          "iopub.status.busy": "2024-11-07T15:58:07.840968Z",
          "iopub.execute_input": "2024-11-07T15:58:07.841399Z",
          "iopub.status.idle": "2024-11-07T15:58:07.854578Z",
          "shell.execute_reply.started": "2024-11-07T15:58:07.84135Z",
          "shell.execute_reply": "2024-11-07T15:58:07.85347Z"
        },
        "id": "AmeaxGefq21k"
      },
      "outputs": [],
      "execution_count": null
    },
    {
      "cell_type": "code",
      "source": [
        "data = data.drop(['STDs: Time since first diagnosis', 'STDs: Time since last diagnosis'], axis=1)\n"
      ],
      "metadata": {
        "trusted": true,
        "execution": {
          "iopub.status.busy": "2024-11-07T15:58:07.856984Z",
          "iopub.execute_input": "2024-11-07T15:58:07.857591Z",
          "iopub.status.idle": "2024-11-07T15:58:07.864322Z",
          "shell.execute_reply.started": "2024-11-07T15:58:07.857538Z",
          "shell.execute_reply": "2024-11-07T15:58:07.863377Z"
        },
        "id": "YzGV10pdq21k"
      },
      "outputs": [],
      "execution_count": null
    },
    {
      "cell_type": "code",
      "source": [
        "data.head()"
      ],
      "metadata": {
        "trusted": true,
        "execution": {
          "iopub.status.busy": "2024-11-07T15:58:07.865603Z",
          "iopub.execute_input": "2024-11-07T15:58:07.866051Z",
          "iopub.status.idle": "2024-11-07T15:58:07.891064Z",
          "shell.execute_reply.started": "2024-11-07T15:58:07.86599Z",
          "shell.execute_reply": "2024-11-07T15:58:07.889742Z"
        },
        "id": "rdKsF2gVq21l"
      },
      "outputs": [],
      "execution_count": null
    },
    {
      "cell_type": "code",
      "source": [
        "data.describe()"
      ],
      "metadata": {
        "trusted": true,
        "execution": {
          "iopub.status.busy": "2024-11-07T15:58:07.892387Z",
          "iopub.execute_input": "2024-11-07T15:58:07.892787Z",
          "iopub.status.idle": "2024-11-07T15:58:07.931891Z",
          "shell.execute_reply.started": "2024-11-07T15:58:07.892747Z",
          "shell.execute_reply": "2024-11-07T15:58:07.93104Z"
        },
        "id": "dsgJhnjXq21l"
      },
      "outputs": [],
      "execution_count": null
    },
    {
      "cell_type": "code",
      "source": [
        "data.isna().sum()"
      ],
      "metadata": {
        "trusted": true,
        "execution": {
          "iopub.status.busy": "2024-11-07T15:58:07.934686Z",
          "iopub.execute_input": "2024-11-07T15:58:07.93517Z",
          "iopub.status.idle": "2024-11-07T15:58:07.945174Z",
          "shell.execute_reply.started": "2024-11-07T15:58:07.93512Z",
          "shell.execute_reply": "2024-11-07T15:58:07.944079Z"
        },
        "id": "V9esECUUq21l"
      },
      "outputs": [],
      "execution_count": null
    },
    {
      "cell_type": "code",
      "source": [
        "data = data.apply(pd.to_numeric)\n",
        "data = data.fillna(data.mean())"
      ],
      "metadata": {
        "trusted": true,
        "execution": {
          "iopub.status.busy": "2024-11-07T15:58:07.946663Z",
          "iopub.execute_input": "2024-11-07T15:58:07.947148Z",
          "iopub.status.idle": "2024-11-07T15:58:07.980929Z",
          "shell.execute_reply.started": "2024-11-07T15:58:07.947096Z",
          "shell.execute_reply": "2024-11-07T15:58:07.979971Z"
        },
        "id": "qupbPTvSq21l"
      },
      "outputs": [],
      "execution_count": null
    },
    {
      "cell_type": "code",
      "source": [
        "data.isna().sum()"
      ],
      "metadata": {
        "trusted": true,
        "execution": {
          "iopub.status.busy": "2024-11-07T15:58:07.982201Z",
          "iopub.execute_input": "2024-11-07T15:58:07.982506Z",
          "iopub.status.idle": "2024-11-07T15:58:07.993803Z",
          "shell.execute_reply.started": "2024-11-07T15:58:07.982473Z",
          "shell.execute_reply": "2024-11-07T15:58:07.992706Z"
        },
        "id": "tZOOcidXq21l"
      },
      "outputs": [],
      "execution_count": null
    },
    {
      "cell_type": "markdown",
      "source": [
        "# **Correlation between Data**"
      ],
      "metadata": {
        "id": "y8HPCRGHq21m"
      }
    },
    {
      "cell_type": "markdown",
      "source": [
        "When the correlation approaches 1, the variables have a strong positive dependency, meaning they increase or decrease together in proportion. Conversely, when the correlation approaches -1, there is a strong negative dependency, indicating that as one variable increases, the other tends to decrease in proportion."
      ],
      "metadata": {
        "id": "ku1RIoiAq21m"
      }
    },
    {
      "cell_type": "code",
      "source": [
        "import seaborn as sns\n",
        "import matplotlib.pyplot as plt\n",
        "correlation = data.corr()\n",
        "plt.figure(figsize = (22,22))\n",
        "sns.heatmap(correlation, annot=True)\n",
        "plt.show()"
      ],
      "metadata": {
        "trusted": true,
        "execution": {
          "iopub.status.busy": "2024-11-07T15:58:07.995865Z",
          "iopub.execute_input": "2024-11-07T15:58:07.996259Z",
          "iopub.status.idle": "2024-11-07T15:58:10.800613Z",
          "shell.execute_reply.started": "2024-11-07T15:58:07.99622Z",
          "shell.execute_reply": "2024-11-07T15:58:10.799487Z"
        },
        "id": "2I_PhVGuq21m"
      },
      "outputs": [],
      "execution_count": null
    },
    {
      "cell_type": "code",
      "source": [
        "histogram = data.hist(figsize= (18,18), color= 'red')\n",
        "plt.show()"
      ],
      "metadata": {
        "trusted": true,
        "execution": {
          "iopub.status.busy": "2024-11-07T15:58:10.802132Z",
          "iopub.execute_input": "2024-11-07T15:58:10.802835Z",
          "iopub.status.idle": "2024-11-07T15:58:16.145203Z",
          "shell.execute_reply.started": "2024-11-07T15:58:10.802788Z",
          "shell.execute_reply": "2024-11-07T15:58:16.144036Z"
        },
        "id": "wRXzgy3kq21n"
      },
      "outputs": [],
      "execution_count": null
    },
    {
      "cell_type": "markdown",
      "source": [
        "# **Setting Data**"
      ],
      "metadata": {
        "id": "OXXEzxzEq21n"
      }
    },
    {
      "cell_type": "code",
      "source": [
        "X = data.iloc[:, :-1]\n",
        "Y = data.iloc[:, -1]"
      ],
      "metadata": {
        "trusted": true,
        "execution": {
          "iopub.status.busy": "2024-11-07T15:58:16.146575Z",
          "iopub.execute_input": "2024-11-07T15:58:16.146979Z",
          "iopub.status.idle": "2024-11-07T15:58:16.154974Z",
          "shell.execute_reply.started": "2024-11-07T15:58:16.146915Z",
          "shell.execute_reply": "2024-11-07T15:58:16.153897Z"
        },
        "id": "s4hEkt6sq21n"
      },
      "outputs": [],
      "execution_count": null
    },
    {
      "cell_type": "markdown",
      "source": [
        "# **Selecting best features**"
      ],
      "metadata": {
        "id": "hSg8b-1aq21n"
      }
    },
    {
      "cell_type": "code",
      "source": [
        "from sklearn.feature_selection import SelectPercentile, chi2 , f_classif\n",
        "FeatureSelection = SelectPercentile(score_func = chi2, percentile=30)\n",
        "X = FeatureSelection.fit_transform(X,Y)"
      ],
      "metadata": {
        "trusted": true,
        "execution": {
          "iopub.status.busy": "2024-11-07T15:58:16.158018Z",
          "iopub.execute_input": "2024-11-07T15:58:16.158679Z",
          "iopub.status.idle": "2024-11-07T15:58:16.17582Z",
          "shell.execute_reply.started": "2024-11-07T15:58:16.158642Z",
          "shell.execute_reply": "2024-11-07T15:58:16.174777Z"
        },
        "id": "BSNEA2Stq21n"
      },
      "outputs": [],
      "execution_count": null
    },
    {
      "cell_type": "markdown",
      "source": [
        "# **Polynimal - Scaling / perprocessing**"
      ],
      "metadata": {
        "id": "wQvK4YtLq21n"
      }
    },
    {
      "cell_type": "code",
      "source": [
        "poly = PolynomialFeatures(degree=2)\n",
        "X = poly.fit_transform(X)\n",
        "\n",
        "\n",
        "std = StandardScaler()\n",
        "X= std.fit_transform(X)"
      ],
      "metadata": {
        "trusted": true,
        "execution": {
          "iopub.status.busy": "2024-11-07T15:58:16.1773Z",
          "iopub.execute_input": "2024-11-07T15:58:16.177677Z",
          "iopub.status.idle": "2024-11-07T15:58:16.186667Z",
          "shell.execute_reply.started": "2024-11-07T15:58:16.17763Z",
          "shell.execute_reply": "2024-11-07T15:58:16.185614Z"
        },
        "id": "AQDK_ISYq21n"
      },
      "outputs": [],
      "execution_count": null
    },
    {
      "cell_type": "code",
      "source": [
        "X.shape"
      ],
      "metadata": {
        "trusted": true,
        "execution": {
          "iopub.status.busy": "2024-11-07T15:58:16.187939Z",
          "iopub.execute_input": "2024-11-07T15:58:16.188286Z",
          "iopub.status.idle": "2024-11-07T15:58:16.199533Z",
          "shell.execute_reply.started": "2024-11-07T15:58:16.188249Z",
          "shell.execute_reply": "2024-11-07T15:58:16.198436Z"
        },
        "id": "2fY1O1tdq21n"
      },
      "outputs": [],
      "execution_count": null
    },
    {
      "cell_type": "code",
      "source": [
        "from sklearn.linear_model import LogisticRegression\n",
        "from sklearn.tree import DecisionTreeClassifier\n",
        "from sklearn.svm import SVC\n",
        "from sklearn.metrics import confusion_matrix"
      ],
      "metadata": {
        "trusted": true,
        "execution": {
          "iopub.status.busy": "2024-11-07T15:58:16.201088Z",
          "iopub.execute_input": "2024-11-07T15:58:16.201884Z",
          "iopub.status.idle": "2024-11-07T15:58:16.209747Z",
          "shell.execute_reply.started": "2024-11-07T15:58:16.201833Z",
          "shell.execute_reply": "2024-11-07T15:58:16.208785Z"
        },
        "id": "-o9CPcnSq21n"
      },
      "outputs": [],
      "execution_count": null
    },
    {
      "cell_type": "markdown",
      "source": [
        "# **Splitting Data**"
      ],
      "metadata": {
        "id": "ejfu1A_kq21n"
      }
    },
    {
      "cell_type": "code",
      "source": [
        "X_train, X_test, Y_train, Y_test = train_test_split(X, Y, test_size = 0.3, random_state=42)"
      ],
      "metadata": {
        "trusted": true,
        "execution": {
          "iopub.status.busy": "2024-11-07T15:58:16.211057Z",
          "iopub.execute_input": "2024-11-07T15:58:16.211461Z",
          "iopub.status.idle": "2024-11-07T15:58:16.225281Z",
          "shell.execute_reply.started": "2024-11-07T15:58:16.211414Z",
          "shell.execute_reply": "2024-11-07T15:58:16.224166Z"
        },
        "id": "n3v4nJdoq21n"
      },
      "outputs": [],
      "execution_count": null
    },
    {
      "cell_type": "markdown",
      "source": [
        "# **Logistic Regression Model**"
      ],
      "metadata": {
        "id": "2mBF23Nnq21n"
      }
    },
    {
      "cell_type": "code",
      "source": [
        "LogisticRegressionModel = LogisticRegression(penalty='l2',solver='sag',C=1.0,random_state=33)\n",
        "LogisticRegressionModel.fit(X_train ,Y_train)\n"
      ],
      "metadata": {
        "trusted": true,
        "execution": {
          "iopub.status.busy": "2024-11-07T15:59:27.72886Z",
          "iopub.execute_input": "2024-11-07T15:59:27.729299Z",
          "iopub.status.idle": "2024-11-07T15:59:27.814982Z",
          "shell.execute_reply.started": "2024-11-07T15:59:27.72926Z",
          "shell.execute_reply": "2024-11-07T15:59:27.813892Z"
        },
        "id": "h26-rSAVq21n"
      },
      "outputs": [],
      "execution_count": null
    },
    {
      "cell_type": "code",
      "source": [
        "logist_regress_train_score= LogisticRegressionModel.score(X_train, Y_train)\n",
        "logist_regress_test_score=   LogisticRegressionModel.score(X_test, Y_test)\n",
        "\n",
        "print(f'Using Logistic Regression, the score of training data is {round(logist_regress_train_score*100,2)} % and the score of test data is {round(logist_regress_test_score*100,2)} %')"
      ],
      "metadata": {
        "trusted": true,
        "execution": {
          "iopub.status.busy": "2024-11-07T15:58:16.315826Z",
          "iopub.execute_input": "2024-11-07T15:58:16.316259Z",
          "iopub.status.idle": "2024-11-07T15:58:16.327936Z",
          "shell.execute_reply.started": "2024-11-07T15:58:16.316212Z",
          "shell.execute_reply": "2024-11-07T15:58:16.326609Z"
        },
        "id": "UNgmPRIjq21n"
      },
      "outputs": [],
      "execution_count": null
    },
    {
      "cell_type": "code",
      "source": [
        "import matplotlib.pyplot as plt\n",
        "\n",
        "\n",
        "scores = [logist_regress_train_score * 100, logist_regress_test_score * 100]\n",
        "labels = ['Training Score', 'Test Score']\n",
        "\n",
        "# Plot the bar chart\n",
        "plt.figure(figsize=(8, 6))\n",
        "plt.bar(labels, scores, color=['blue', 'green'])\n",
        "plt.ylabel('Score (%)')\n",
        "plt.title('Logistic Regression Training and Test Scores')\n",
        "plt.ylim(0, 100)  # Set y-axis limit from 0 to 100 for percentage\n",
        "plt.show()\n"
      ],
      "metadata": {
        "trusted": true,
        "execution": {
          "iopub.status.busy": "2024-11-07T15:58:16.329623Z",
          "iopub.execute_input": "2024-11-07T15:58:16.330332Z",
          "iopub.status.idle": "2024-11-07T15:58:16.550439Z",
          "shell.execute_reply.started": "2024-11-07T15:58:16.330278Z",
          "shell.execute_reply": "2024-11-07T15:58:16.549251Z"
        },
        "id": "k60NOe6bq21n"
      },
      "outputs": [],
      "execution_count": null
    },
    {
      "cell_type": "code",
      "source": [
        "y_pred_logisReg = LogisticRegressionModel.predict(X_test)\n",
        "\n",
        "conf = confusion_matrix(Y_test,y_pred_logisReg )\n",
        "\n",
        "sns.heatmap(conf, annot= True)"
      ],
      "metadata": {
        "trusted": true,
        "execution": {
          "iopub.status.busy": "2024-11-07T15:58:16.553635Z",
          "iopub.execute_input": "2024-11-07T15:58:16.554015Z",
          "iopub.status.idle": "2024-11-07T15:58:16.842477Z",
          "shell.execute_reply.started": "2024-11-07T15:58:16.55397Z",
          "shell.execute_reply": "2024-11-07T15:58:16.841235Z"
        },
        "id": "MMl5dOJbq21o"
      },
      "outputs": [],
      "execution_count": null
    },
    {
      "cell_type": "markdown",
      "source": [
        "# **Decision Tree Classifier**"
      ],
      "metadata": {
        "id": "isSA4Lnfq21o"
      }
    },
    {
      "cell_type": "code",
      "source": [
        "DecisionTreeClassifierModel = DecisionTreeClassifier(criterion='gini',max_depth=2,random_state=42)\n",
        "DecisionTreeClassifierModel.fit(X_train, Y_train)"
      ],
      "metadata": {
        "trusted": true,
        "execution": {
          "iopub.status.busy": "2024-11-07T15:58:16.843938Z",
          "iopub.execute_input": "2024-11-07T15:58:16.844325Z",
          "iopub.status.idle": "2024-11-07T15:58:16.857786Z",
          "shell.execute_reply.started": "2024-11-07T15:58:16.844287Z",
          "shell.execute_reply": "2024-11-07T15:58:16.856683Z"
        },
        "id": "Ay5ztHTNq21o"
      },
      "outputs": [],
      "execution_count": null
    },
    {
      "cell_type": "code",
      "source": [
        "Tree_train_score= DecisionTreeClassifierModel.score(X_train, Y_train)\n",
        "Tree_test_score=   DecisionTreeClassifierModel.score(X_test, Y_test)\n",
        "\n",
        "print(f'Using Decision Tree, the score of training data is {round(Tree_train_score*100,2)} % and the score of test data is {round(Tree_test_score*100,2)} %')"
      ],
      "metadata": {
        "trusted": true,
        "execution": {
          "iopub.status.busy": "2024-11-07T15:58:16.859112Z",
          "iopub.execute_input": "2024-11-07T15:58:16.859458Z",
          "iopub.status.idle": "2024-11-07T15:58:16.869101Z",
          "shell.execute_reply.started": "2024-11-07T15:58:16.859419Z",
          "shell.execute_reply": "2024-11-07T15:58:16.867953Z"
        },
        "id": "uSsJbPkTq21o"
      },
      "outputs": [],
      "execution_count": null
    },
    {
      "cell_type": "code",
      "source": [
        "scores = [Tree_train_score* 100, Tree_test_score * 100]\n",
        "labels = ['Training Score', 'Test Score']\n",
        "\n",
        "# Plot the bar chart\n",
        "plt.figure(figsize=(8, 6))\n",
        "plt.bar(labels, scores, color=['blue', 'green'])\n",
        "plt.ylabel('Score (%)')\n",
        "plt.title('Decision Tree Training and Test Scores')\n",
        "plt.ylim(0, 100)  # Set y-axis limit from 0 to 100 for percentage\n",
        "plt.show()"
      ],
      "metadata": {
        "trusted": true,
        "execution": {
          "iopub.status.busy": "2024-11-07T15:58:16.870457Z",
          "iopub.execute_input": "2024-11-07T15:58:16.870868Z",
          "iopub.status.idle": "2024-11-07T15:58:17.074318Z",
          "shell.execute_reply.started": "2024-11-07T15:58:16.870799Z",
          "shell.execute_reply": "2024-11-07T15:58:17.073136Z"
        },
        "id": "Lj4Z-605q21o"
      },
      "outputs": [],
      "execution_count": null
    },
    {
      "cell_type": "code",
      "source": [
        "y_pred_logisReg = DecisionTreeClassifierModel.predict(X_test)\n",
        "\n",
        "conf = confusion_matrix(Y_test,y_pred_logisReg )\n",
        "\n",
        "sns.heatmap(conf, annot= True)"
      ],
      "metadata": {
        "trusted": true,
        "execution": {
          "iopub.status.busy": "2024-11-07T15:58:17.075487Z",
          "iopub.execute_input": "2024-11-07T15:58:17.075819Z",
          "iopub.status.idle": "2024-11-07T15:58:17.318881Z",
          "shell.execute_reply.started": "2024-11-07T15:58:17.075784Z",
          "shell.execute_reply": "2024-11-07T15:58:17.317793Z"
        },
        "id": "bSmah7ppq21o"
      },
      "outputs": [],
      "execution_count": null
    },
    {
      "cell_type": "markdown",
      "source": [
        "# **SVC Model**"
      ],
      "metadata": {
        "id": "k8M6bCHRq21o"
      }
    },
    {
      "cell_type": "code",
      "source": [
        "SVCModel = SVC(kernel= 'poly',max_iter=100,C=0.95,gamma='auto')\n",
        "SVCModel.fit(X_train, Y_train)"
      ],
      "metadata": {
        "trusted": true,
        "execution": {
          "iopub.status.busy": "2024-11-07T15:58:17.320258Z",
          "iopub.execute_input": "2024-11-07T15:58:17.320598Z",
          "iopub.status.idle": "2024-11-07T15:58:17.334396Z",
          "shell.execute_reply.started": "2024-11-07T15:58:17.320562Z",
          "shell.execute_reply": "2024-11-07T15:58:17.333231Z"
        },
        "id": "UngrF4RNq21o"
      },
      "outputs": [],
      "execution_count": null
    },
    {
      "cell_type": "code",
      "source": [
        "SVC_train_score= SVCModel.score(X_train, Y_train)\n",
        "SVC_test_score=   SVCModel.score(X_test, Y_test)\n",
        "\n",
        "print(f'Using SVC, the score of training data is {round(SVC_train_score*100,2)} % and the score of test data is {round(SVC_test_score*100,2)} %')"
      ],
      "metadata": {
        "trusted": true,
        "execution": {
          "iopub.status.busy": "2024-11-07T15:58:17.335607Z",
          "iopub.execute_input": "2024-11-07T15:58:17.335961Z",
          "iopub.status.idle": "2024-11-07T15:58:17.348277Z",
          "shell.execute_reply.started": "2024-11-07T15:58:17.335898Z",
          "shell.execute_reply": "2024-11-07T15:58:17.347125Z"
        },
        "id": "jYyfQX7kq21o"
      },
      "outputs": [],
      "execution_count": null
    },
    {
      "cell_type": "code",
      "source": [
        "scores = [SVC_train_score* 100, SVC_test_score * 100]\n",
        "labels = ['Training Score', 'Test Score']\n",
        "\n",
        "# Plot the bar chart\n",
        "plt.figure(figsize=(8, 6))\n",
        "plt.bar(labels, scores, color=['blue', 'green'])\n",
        "plt.ylabel('Score (%)')\n",
        "plt.title('SVC Training and Test Scores')\n",
        "plt.ylim(0, 100)\n",
        "plt.show()"
      ],
      "metadata": {
        "trusted": true,
        "execution": {
          "iopub.status.busy": "2024-11-07T15:58:17.349548Z",
          "iopub.execute_input": "2024-11-07T15:58:17.349864Z",
          "iopub.status.idle": "2024-11-07T15:58:17.553953Z",
          "shell.execute_reply.started": "2024-11-07T15:58:17.349831Z",
          "shell.execute_reply": "2024-11-07T15:58:17.552872Z"
        },
        "id": "jwpz5QzFq21o"
      },
      "outputs": [],
      "execution_count": null
    },
    {
      "cell_type": "code",
      "source": [
        "y_pred_SVC = SVCModel.predict(X_test)\n",
        "\n",
        "conf = confusion_matrix(Y_test,y_pred_SVC )\n",
        "\n",
        "sns.heatmap(conf, annot= True)"
      ],
      "metadata": {
        "trusted": true,
        "execution": {
          "iopub.status.busy": "2024-11-07T15:58:17.555225Z",
          "iopub.execute_input": "2024-11-07T15:58:17.555557Z",
          "iopub.status.idle": "2024-11-07T15:58:17.812967Z",
          "shell.execute_reply.started": "2024-11-07T15:58:17.555522Z",
          "shell.execute_reply": "2024-11-07T15:58:17.811809Z"
        },
        "id": "4eosWTZmq21w"
      },
      "outputs": [],
      "execution_count": null
    }
  ]
}